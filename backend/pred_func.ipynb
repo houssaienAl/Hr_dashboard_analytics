{
 "cells": [
  {
   "cell_type": "code",
   "execution_count": 1,
   "id": "406a48fd",
   "metadata": {
    "execution": {
     "iopub.execute_input": "2023-08-31T06:05:51.462209Z",
     "iopub.status.busy": "2023-08-31T06:05:51.461386Z",
     "iopub.status.idle": "2023-08-31T06:05:53.518040Z",
     "shell.execute_reply": "2023-08-31T06:05:53.516816Z"
    },
    "papermill": {
     "duration": 2.085431,
     "end_time": "2023-08-31T06:05:53.520938",
     "exception": false,
     "start_time": "2023-08-31T06:05:51.435507",
     "status": "completed"
    },
    "tags": []
   },
   "outputs": [],
   "source": [
    "import warnings\n",
    "warnings.filterwarnings('ignore')\n",
    "\n",
    "import numpy as np\n",
    "import pandas as pd\n",
    "import matplotlib.pyplot as plt\n",
    "import seaborn as sns\n",
    "import missingno as msno\n",
    "import xgboost as xgb\n",
    "from catboost import CatBoostRegressor\n",
    "from sklearn.preprocessing import LabelEncoder\n",
    "from sklearn.model_selection import train_test_split, GridSearchCV, KFold\n",
    "from sklearn.metrics import mean_absolute_error, mean_squared_error, r2_score\n",
    "sns.set(rc={'axes.facecolor': '#f1faeb'}, style='darkgrid')\n"
   ]
  },
  {
   "cell_type": "code",
   "execution_count": 2,
   "id": "8d41c6da",
   "metadata": {
    "execution": {
     "iopub.execute_input": "2023-08-31T06:06:02.441330Z",
     "iopub.status.busy": "2023-08-31T06:06:02.440440Z",
     "iopub.status.idle": "2023-08-31T06:06:02.473168Z",
     "shell.execute_reply": "2023-08-31T06:06:02.472268Z"
    },
    "papermill": {
     "duration": 0.072204,
     "end_time": "2023-08-31T06:06:02.475431",
     "exception": false,
     "start_time": "2023-08-31T06:06:02.403227",
     "status": "completed"
    },
    "tags": []
   },
   "outputs": [],
   "source": [
    "# Reload the dataset to retain the original data types of the variables\n",
    "df = pd.read_csv('HR.csv')\n",
    "def prep_data(df): \n",
    "    # Implementing one-hot encoding on the 'sales' feature\n",
    "    df_encoded = pd.get_dummies(df, columns=['sales'], drop_first=True)\n",
    "\n",
    "    # Label encoding of 'salary' feature\n",
    "    le = LabelEncoder()\n",
    "    df_encoded['salary'] = le.fit_transform(df_encoded['salary'])\n",
    "    # Define the features (X) and the output labels (y)\n",
    "    X = df_encoded.drop('left', axis=1)\n",
    "    y = df_encoded['left']\n",
    "    # Splitting data into train and test sets\n",
    "    X_train, X_test, y_train, y_test = train_test_split(X, y, test_size=0.2, random_state=0, stratify=y)\n",
    "    return X_train, X_test, y_train, y_test\n",
    "X_train, X_test, y_train, y_test = prep_data(df)"
   ]
  },
  {
   "cell_type": "code",
   "execution_count": 3,
   "id": "ce7ae9ae",
   "metadata": {
    "execution": {
     "iopub.execute_input": "2023-08-31T06:06:03.549534Z",
     "iopub.status.busy": "2023-08-31T06:06:03.548694Z",
     "iopub.status.idle": "2023-08-31T06:06:03.556619Z",
     "shell.execute_reply": "2023-08-31T06:06:03.555631Z"
    },
    "papermill": {
     "duration": 0.0478,
     "end_time": "2023-08-31T06:06:03.559074",
     "exception": false,
     "start_time": "2023-08-31T06:06:03.511274",
     "status": "completed"
    },
    "tags": []
   },
   "outputs": [],
   "source": [
    "def tune_regressor_hyperparameters(reg, param_grid, X_train, y_train, scoring='neg_mean_squared_error', n_splits=3):\n",
    "    '''\n",
    "    This function optimizes the hyperparameters for a regressor by searching over a specified hyperparameter grid. \n",
    "    It uses GridSearchCV and cross-validation (KFold) to evaluate different combinations of hyperparameters. \n",
    "    The combination with the highest negative mean squared error is selected as the default scoring metric. \n",
    "    The function returns the regressor with the optimal hyperparameters.\n",
    "    '''\n",
    "    \n",
    "    # Create the cross-validation object using KFold\n",
    "    cv = KFold(n_splits=n_splits, shuffle=True, random_state=0)\n",
    "\n",
    "    # Create the GridSearchCV object\n",
    "    reg_grid = GridSearchCV(reg, param_grid, cv=cv, scoring=scoring, n_jobs=-1)\n",
    "\n",
    "    # Fit the GridSearchCV object to the training data\n",
    "    reg_grid.fit(X_train, y_train)\n",
    "\n",
    "    # Get the best hyperparameters\n",
    "    best_hyperparameters = reg_grid.best_params_\n",
    "    \n",
    "    # Return best_estimator_ attribute which gives us the best model that has been fitted to the training data\n",
    "    return reg_grid.best_estimator_, best_hyperparameters\n",
    "def evaluate_model(model, X_train, y_train, X_test, y_test, model_name):\n",
    "\n",
    "    # Predict on training and testing data\n",
    "    y_train_pred = model.predict(X_train)\n",
    "    y_test_pred = model.predict(X_test)\n",
    "\n",
    "    # Calculate metrics for training data\n",
    "    mae_train = mean_absolute_error(y_train, y_train_pred)\n",
    "    mse_train = mean_squared_error(y_train, y_train_pred)\n",
    "    rmse_train = np.sqrt(mse_train)\n",
    "    r2_train = r2_score(y_train, y_train_pred)\n",
    "\n",
    "    # Calculate metrics for testing data\n",
    "    mae_test = mean_absolute_error(y_test, y_test_pred)\n",
    "    mse_test = mean_squared_error(y_test, y_test_pred)\n",
    "    rmse_test = np.sqrt(mse_test)\n",
    "    r2_test = r2_score(y_test, y_test_pred)\n",
    "    \n",
    "    # Create a DataFrame for metrics\n",
    "    metrics_df = pd.DataFrame(data = [mae_test, mse_test, rmse_test, r2_test],\n",
    "                              index = ['MAE', 'MSE', 'RMSE', 'R2 Score'],\n",
    "                              columns = [model_name])\n",
    "    \n",
    "    # Print the metrics\n",
    "    print(f\"{model_name} Training Data Metrics:\")\n",
    "    print(\"MAE: {:.4f}\".format(mae_train))\n",
    "    print(\"MSE: {:.4f}\".format(mse_train))\n",
    "    print(\"RMSE: {:.4f}\".format(rmse_train))\n",
    "    print(\"R2 Score: {:.4f}\".format(r2_train))\n",
    "    \n",
    "    print(f\"\\n{model_name} Testing Data Metrics:\")\n",
    "    print(\"MAE: {:.4f}\".format(mae_test))\n",
    "    print(\"MSE: {:.4f}\".format(mse_test))\n",
    "    print(\"RMSE: {:.4f}\".format(rmse_test))\n",
    "    print(\"R2 Score: {:.4f}\".format(r2_test))\n",
    "        \n",
    "    return metrics_df\n",
    "\n",
    "def xgb_predict(X_train, y_train, X_test, y_test):\n",
    "    # Define the model\n",
    "    xgb_base = xgb.XGBRegressor(objective ='reg:squarederror')\n",
    "    # Define the parameters for grid search\n",
    "    xgb_param_grid = {\n",
    "        'max_depth': [4, 5],\n",
    "        'learning_rate': [0.01, 0.1, 0.2, 0.3],\n",
    "        'n_estimators': [200, 250, 300],\n",
    "        'min_child_weight': [2, 3, 4]\n",
    "    }\n",
    "    # Tune the hyperparameters\n",
    "    best_xgb, best_xgb_hyperparameters = tune_regressor_hyperparameters(xgb_base, xgb_param_grid, X_train, y_train)\n",
    "    xgb_result = evaluate_model(best_xgb, X_train, y_train, X_test, y_test, 'XGBoost')\n",
    "    return xgb_result, best_xgb\n",
    "\n",
    "def ctb_predict(X_train, y_train, X_test, y_test):\n",
    " \n",
    "    ctb_base = CatBoostRegressor(verbose=0)\n",
    "    # Define the parameters for grid search\n",
    "    ctb_param_grid = {\n",
    "        'iterations': [100, 300, 500],\n",
    "        'learning_rate': [0.01, 0.1, 0.3],\n",
    "        'depth': [4, 6, 8],\n",
    "        'l2_leaf_reg': [1, 3, 5],\n",
    "    }\n",
    "    # Tune the hyperparameters\n",
    "    best_ctb, best_ctb_hyperparameters = tune_regressor_hyperparameters(ctb_base, ctb_param_grid, X_train, y_train)\n",
    "    ctb_result = evaluate_model(best_ctb, X_train, y_train, X_test, y_test, 'CatBoost')\n",
    "    return ctb_result, best_ctb"
   ]
  },
  {
   "cell_type": "code",
   "execution_count": 4,
   "id": "a4eaedfc",
   "metadata": {
    "_kg_hide-output": true,
    "execution": {
     "iopub.execute_input": "2023-08-31T06:06:03.809312Z",
     "iopub.status.busy": "2023-08-31T06:06:03.808907Z",
     "iopub.status.idle": "2023-08-31T06:08:43.191513Z",
     "shell.execute_reply": "2023-08-31T06:08:43.190200Z"
    },
    "papermill": {
     "duration": 159.440548,
     "end_time": "2023-08-31T06:08:43.194900",
     "exception": false,
     "start_time": "2023-08-31T06:06:03.754352",
     "status": "completed"
    },
    "tags": []
   },
   "outputs": [
    {
     "name": "stdout",
     "output_type": "stream",
     "text": [
      "XGBoost Training Data Metrics:\n",
      "MAE: 0.0253\n",
      "MSE: 0.0040\n",
      "RMSE: 0.0633\n",
      "R2 Score: 0.9779\n",
      "\n",
      "XGBoost Testing Data Metrics:\n",
      "MAE: 0.0436\n",
      "MSE: 0.0126\n",
      "RMSE: 0.1123\n",
      "R2 Score: 0.9305\n"
     ]
    }
   ],
   "source": [
    "xgb_result, best_xgb = xgb_predict(X_train, y_train, X_test, y_test)\n"
   ]
  },
  {
   "cell_type": "code",
   "execution_count": null,
   "id": "d6bc6fee",
   "metadata": {
    "execution": {
     "iopub.execute_input": "2023-08-31T06:08:44.033253Z",
     "iopub.status.busy": "2023-08-31T06:08:44.032478Z",
     "iopub.status.idle": "2023-08-31T06:08:44.040913Z",
     "shell.execute_reply": "2023-08-31T06:08:44.039685Z"
    },
    "papermill": {
     "duration": 0.050952,
     "end_time": "2023-08-31T06:08:44.043426",
     "exception": false,
     "start_time": "2023-08-31T06:08:43.992474",
     "status": "completed"
    },
    "tags": []
   },
   "outputs": [
    {
     "name": "stdout",
     "output_type": "stream",
     "text": [
      "CatBoost Training Data Metrics:\n",
      "MAE: 0.0234\n",
      "MSE: 0.0037\n",
      "RMSE: 0.0612\n",
      "R2 Score: 0.9794\n",
      "\n",
      "CatBoost Testing Data Metrics:\n",
      "MAE: 0.0392\n",
      "MSE: 0.0116\n",
      "RMSE: 0.1078\n",
      "R2 Score: 0.9359\n"
     ]
    }
   ],
   "source": [
    "\n",
    "ctb_result, best_ctb = ctb_predict(X_train, y_train, X_test, y_test)\n"
   ]
  },
  {
   "cell_type": "code",
   "execution_count": 12,
   "id": "3630d8a3",
   "metadata": {
    "execution": {
     "iopub.execute_input": "2023-08-31T06:12:23.153212Z",
     "iopub.status.busy": "2023-08-31T06:12:23.152468Z",
     "iopub.status.idle": "2023-08-31T06:12:23.556391Z",
     "shell.execute_reply": "2023-08-31T06:12:23.555003Z"
    },
    "papermill": {
     "duration": 0.446938,
     "end_time": "2023-08-31T06:12:23.559355",
     "exception": false,
     "start_time": "2023-08-31T06:12:23.112417",
     "status": "completed"
    },
    "tags": []
   },
   "outputs": [],
   "source": [
    "def plot_diff(ctb_result,xgb_result):\n",
    "    combined_df = pd.concat([ctb_result.T, xgb_result.T], axis=0)\n",
    "    combined_df['Model'] = ['CatBoost', 'XGBoost']\n",
    "\n",
    "    # Melt the dataframe\n",
    "    melted_df = combined_df.melt(id_vars='Model', var_name='Metric', value_name='Score')\n",
    "\n",
    "    # Define custom colors\n",
    "    custom_colors = ['#009c05', 'darkorange']\n",
    "\n",
    "    # Create the barplot\n",
    "    plt.figure(figsize=(10,6))\n",
    "    sns.barplot(x='Score', y='Metric', hue='Model', data=melted_df, palette=custom_colors)\n",
    "\n",
    "    plt.title('Model Comparison')\n",
    "    plt.show()"
   ]
  },
  {
   "cell_type": "code",
   "execution_count": null,
   "id": "643758d9",
   "metadata": {},
   "outputs": [
    {
     "data": {
      "text/plain": [
       "satisfaction_level        0.96\n",
       "last_evaluation           0.93\n",
       "number_project               6\n",
       "average_montly_hours       240\n",
       "time_spend_company           6\n",
       "Work_accident                0\n",
       "promotion_last_5years        0\n",
       "salary                       1\n",
       "sales_RandD              False\n",
       "sales_accounting         False\n",
       "sales_hr                 False\n",
       "sales_management         False\n",
       "sales_marketing          False\n",
       "sales_product_mng        False\n",
       "sales_sales              False\n",
       "sales_support            False\n",
       "sales_technical          False\n",
       "Name: 7241, dtype: object"
      ]
     },
     "execution_count": 18,
     "metadata": {},
     "output_type": "execute_result"
    }
   ],
   "source": []
  },
  {
   "cell_type": "code",
   "execution_count": 24,
   "id": "a07aea2b",
   "metadata": {},
   "outputs": [
    {
     "data": {
      "application/vnd.microsoft.datawrangler.viewer.v0+json": {
       "columns": [
        {
         "name": "index",
         "rawType": "int64",
         "type": "integer"
        },
        {
         "name": "satisfaction_level",
         "rawType": "float64",
         "type": "float"
        },
        {
         "name": "last_evaluation",
         "rawType": "float64",
         "type": "float"
        },
        {
         "name": "number_project",
         "rawType": "int64",
         "type": "integer"
        },
        {
         "name": "average_montly_hours",
         "rawType": "int64",
         "type": "integer"
        },
        {
         "name": "time_spend_company",
         "rawType": "int64",
         "type": "integer"
        },
        {
         "name": "Work_accident",
         "rawType": "int64",
         "type": "integer"
        },
        {
         "name": "promotion_last_5years",
         "rawType": "int64",
         "type": "integer"
        },
        {
         "name": "salary",
         "rawType": "int32",
         "type": "integer"
        },
        {
         "name": "sales_RandD",
         "rawType": "bool",
         "type": "boolean"
        },
        {
         "name": "sales_accounting",
         "rawType": "bool",
         "type": "boolean"
        },
        {
         "name": "sales_hr",
         "rawType": "bool",
         "type": "boolean"
        },
        {
         "name": "sales_management",
         "rawType": "bool",
         "type": "boolean"
        },
        {
         "name": "sales_marketing",
         "rawType": "bool",
         "type": "boolean"
        },
        {
         "name": "sales_product_mng",
         "rawType": "bool",
         "type": "boolean"
        },
        {
         "name": "sales_sales",
         "rawType": "bool",
         "type": "boolean"
        },
        {
         "name": "sales_support",
         "rawType": "bool",
         "type": "boolean"
        },
        {
         "name": "sales_technical",
         "rawType": "bool",
         "type": "boolean"
        }
       ],
       "conversionMethod": "pd.DataFrame",
       "ref": "edbd16ba-6337-4809-a6f6-c489b27c7a1b",
       "rows": [
        [
         "7241",
         "0.96",
         "0.93",
         "6",
         "240",
         "6",
         "0",
         "0",
         "1",
         "False",
         "False",
         "False",
         "False",
         "False",
         "False",
         "False",
         "False",
         "False"
        ]
       ],
       "shape": {
        "columns": 17,
        "rows": 1
       }
      },
      "text/html": [
       "<div>\n",
       "<style scoped>\n",
       "    .dataframe tbody tr th:only-of-type {\n",
       "        vertical-align: middle;\n",
       "    }\n",
       "\n",
       "    .dataframe tbody tr th {\n",
       "        vertical-align: top;\n",
       "    }\n",
       "\n",
       "    .dataframe thead th {\n",
       "        text-align: right;\n",
       "    }\n",
       "</style>\n",
       "<table border=\"1\" class=\"dataframe\">\n",
       "  <thead>\n",
       "    <tr style=\"text-align: right;\">\n",
       "      <th></th>\n",
       "      <th>satisfaction_level</th>\n",
       "      <th>last_evaluation</th>\n",
       "      <th>number_project</th>\n",
       "      <th>average_montly_hours</th>\n",
       "      <th>time_spend_company</th>\n",
       "      <th>Work_accident</th>\n",
       "      <th>promotion_last_5years</th>\n",
       "      <th>salary</th>\n",
       "      <th>sales_RandD</th>\n",
       "      <th>sales_accounting</th>\n",
       "      <th>sales_hr</th>\n",
       "      <th>sales_management</th>\n",
       "      <th>sales_marketing</th>\n",
       "      <th>sales_product_mng</th>\n",
       "      <th>sales_sales</th>\n",
       "      <th>sales_support</th>\n",
       "      <th>sales_technical</th>\n",
       "    </tr>\n",
       "  </thead>\n",
       "  <tbody>\n",
       "    <tr>\n",
       "      <th>7241</th>\n",
       "      <td>0.96</td>\n",
       "      <td>0.93</td>\n",
       "      <td>6</td>\n",
       "      <td>240</td>\n",
       "      <td>6</td>\n",
       "      <td>0</td>\n",
       "      <td>0</td>\n",
       "      <td>1</td>\n",
       "      <td>False</td>\n",
       "      <td>False</td>\n",
       "      <td>False</td>\n",
       "      <td>False</td>\n",
       "      <td>False</td>\n",
       "      <td>False</td>\n",
       "      <td>False</td>\n",
       "      <td>False</td>\n",
       "      <td>False</td>\n",
       "    </tr>\n",
       "  </tbody>\n",
       "</table>\n",
       "</div>"
      ],
      "text/plain": [
       "      satisfaction_level  last_evaluation  number_project  \\\n",
       "7241                0.96             0.93               6   \n",
       "\n",
       "      average_montly_hours  time_spend_company  Work_accident  \\\n",
       "7241                   240                   6              0   \n",
       "\n",
       "      promotion_last_5years  salary  sales_RandD  sales_accounting  sales_hr  \\\n",
       "7241                      0       1        False             False     False   \n",
       "\n",
       "      sales_management  sales_marketing  sales_product_mng  sales_sales  \\\n",
       "7241             False            False              False        False   \n",
       "\n",
       "      sales_support  sales_technical  \n",
       "7241          False            False  "
      ]
     },
     "execution_count": 24,
     "metadata": {},
     "output_type": "execute_result"
    }
   ],
   "source": [
    "X_test[0:1]"
   ]
  },
  {
   "cell_type": "code",
   "execution_count": 5,
   "id": "f1afafa2",
   "metadata": {},
   "outputs": [
    {
     "data": {
      "text/plain": [
       "array([ 0.3008172 , -0.00407761, -0.0088242 , ..., -0.01374841,\n",
       "       -0.02062091,  0.00197378], dtype=float32)"
      ]
     },
     "execution_count": 5,
     "metadata": {},
     "output_type": "execute_result"
    }
   ],
   "source": [
    "def predict(model, X_test):\n",
    "    # Predict on the test data\n",
    "    y_pred = model.predict(X_test)\n",
    "    return y_pred\n",
    "predict(best_xgb , X_test )"
   ]
  }
 ],
 "metadata": {
  "kernelspec": {
   "display_name": "Python 3",
   "language": "python",
   "name": "python3"
  },
  "language_info": {
   "codemirror_mode": {
    "name": "ipython",
    "version": 3
   },
   "file_extension": ".py",
   "mimetype": "text/x-python",
   "name": "python",
   "nbconvert_exporter": "python",
   "pygments_lexer": "ipython3",
   "version": "3.10.11"
  },
  "papermill": {
   "default_parameters": {},
   "duration": 406.541701,
   "end_time": "2023-08-31T06:12:26.543378",
   "environment_variables": {},
   "exception": null,
   "input_path": "__notebook__.ipynb",
   "output_path": "__notebook__.ipynb",
   "parameters": {},
   "start_time": "2023-08-31T06:05:40.001677",
   "version": "2.4.0"
  }
 },
 "nbformat": 4,
 "nbformat_minor": 5
}
